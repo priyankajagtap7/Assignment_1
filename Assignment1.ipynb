{
 "cells": [
  {
   "cell_type": "markdown",
   "id": "6ebc95fd",
   "metadata": {},
   "source": [
    "## Exercise"
   ]
  },
  {
   "cell_type": "code",
   "execution_count": 1,
   "id": "bc5f67c9",
   "metadata": {},
   "outputs": [
    {
     "data": {
      "text/plain": [
       "'** What is 7 to the power of 4?**'"
      ]
     },
     "execution_count": 1,
     "metadata": {},
     "output_type": "execute_result"
    }
   ],
   "source": [
    "'''** What is 7 to the power of 4?**'''"
   ]
  },
  {
   "cell_type": "code",
   "execution_count": 2,
   "id": "b5d7231f",
   "metadata": {},
   "outputs": [
    {
     "data": {
      "text/plain": [
       "2401"
      ]
     },
     "execution_count": 2,
     "metadata": {},
     "output_type": "execute_result"
    }
   ],
   "source": [
    "7**4"
   ]
  },
  {
   "cell_type": "code",
   "execution_count": 3,
   "id": "0f18f3ec",
   "metadata": {},
   "outputs": [
    {
     "data": {
      "text/plain": [
       "'** Split this string:**\\n\\n    s = \"Hi there Yogesh!\"\\n    \\n**into a list. **'"
      ]
     },
     "execution_count": 3,
     "metadata": {},
     "output_type": "execute_result"
    }
   ],
   "source": [
    "'''** Split this string:**\n",
    "\n",
    "    s = \"Hi there Yogesh!\"\n",
    "    \n",
    "**into a list. **'''"
   ]
  },
  {
   "cell_type": "code",
   "execution_count": 4,
   "id": "0986b0cd",
   "metadata": {},
   "outputs": [],
   "source": [
    "s= \"Hi there Yogesh!\""
   ]
  },
  {
   "cell_type": "code",
   "execution_count": 5,
   "id": "0f22b683",
   "metadata": {},
   "outputs": [
    {
     "data": {
      "text/plain": [
       "['Hi', 'there', 'Yogesh!']"
      ]
     },
     "execution_count": 5,
     "metadata": {},
     "output_type": "execute_result"
    }
   ],
   "source": [
    "s.split()"
   ]
  },
  {
   "cell_type": "code",
   "execution_count": 6,
   "id": "75c430c8",
   "metadata": {},
   "outputs": [
    {
     "data": {
      "text/plain": [
       "'** Given the variables:**\\n\\nplanet = \"Earth\"\\ndiameter = 12742\\n** Use .format() to print the following string: **\\n\\nThe diameter of Earth is 12742 kilometers.'"
      ]
     },
     "execution_count": 6,
     "metadata": {},
     "output_type": "execute_result"
    }
   ],
   "source": [
    "'''** Given the variables:**\n",
    "\n",
    "planet = \"Earth\"\n",
    "diameter = 12742\n",
    "** Use .format() to print the following string: **\n",
    "\n",
    "The diameter of Earth is 12742 kilometers.'''"
   ]
  },
  {
   "cell_type": "code",
   "execution_count": 7,
   "id": "c37e0d8f",
   "metadata": {},
   "outputs": [],
   "source": [
    "planet = \"Earth\"\n",
    "diameter = 12742"
   ]
  },
  {
   "cell_type": "code",
   "execution_count": 8,
   "id": "b1d66b89",
   "metadata": {},
   "outputs": [
    {
     "data": {
      "text/plain": [
       "'The diameter of Earth is 12742 kilometer'"
      ]
     },
     "execution_count": 8,
     "metadata": {},
     "output_type": "execute_result"
    }
   ],
   "source": [
    "'The diameter of {} is {} kilometer'.format(planet,diameter)"
   ]
  },
  {
   "cell_type": "code",
   "execution_count": 9,
   "id": "d8da0975",
   "metadata": {},
   "outputs": [
    {
     "data": {
      "text/plain": [
       "'** Given this nested list, use indexing to grab the word \"hello\" **'"
      ]
     },
     "execution_count": 9,
     "metadata": {},
     "output_type": "execute_result"
    }
   ],
   "source": [
    "'''** Given this nested list, use indexing to grab the word \"hello\" **'''"
   ]
  },
  {
   "cell_type": "code",
   "execution_count": 10,
   "id": "19c8791c",
   "metadata": {},
   "outputs": [],
   "source": [
    "lst = [1,2,[3,4],[5,[100,200,['hello']],23,11],1,7]"
   ]
  },
  {
   "cell_type": "code",
   "execution_count": 11,
   "id": "e25b3a1f",
   "metadata": {},
   "outputs": [
    {
     "data": {
      "text/plain": [
       "['hello']"
      ]
     },
     "execution_count": 11,
     "metadata": {},
     "output_type": "execute_result"
    }
   ],
   "source": [
    "lst[3][1][2]"
   ]
  },
  {
   "cell_type": "code",
   "execution_count": 12,
   "id": "a2159323",
   "metadata": {},
   "outputs": [
    {
     "data": {
      "text/plain": [
       "'hello'"
      ]
     },
     "execution_count": 12,
     "metadata": {},
     "output_type": "execute_result"
    }
   ],
   "source": [
    "lst[3][1][2][0]"
   ]
  },
  {
   "cell_type": "code",
   "execution_count": 13,
   "id": "0ad01784",
   "metadata": {},
   "outputs": [
    {
     "data": {
      "text/plain": [
       "'** Given this nested dictionary grab the word \"hello\". Be prepared, this will be annoying/tricky **'"
      ]
     },
     "execution_count": 13,
     "metadata": {},
     "output_type": "execute_result"
    }
   ],
   "source": [
    "'''** Given this nested dictionary grab the word \"hello\". Be prepared, this will be annoying/tricky **'''"
   ]
  },
  {
   "cell_type": "code",
   "execution_count": 14,
   "id": "6e928779",
   "metadata": {},
   "outputs": [],
   "source": [
    "d = {'k1':[1,2,3,{'tricky':['oh','man','inception',{'target':[1,2,3,'hello']}]}]}"
   ]
  },
  {
   "cell_type": "code",
   "execution_count": 15,
   "id": "c9f03a96",
   "metadata": {},
   "outputs": [
    {
     "data": {
      "text/plain": [
       "'hello'"
      ]
     },
     "execution_count": 15,
     "metadata": {},
     "output_type": "execute_result"
    }
   ],
   "source": [
    "d['k1'][3]['tricky'][3]['target'][3]"
   ]
  },
  {
   "cell_type": "code",
   "execution_count": 16,
   "id": "8d1099b0",
   "metadata": {},
   "outputs": [
    {
     "data": {
      "text/plain": [
       "'** What is the main difference between a tuple and a list? **'"
      ]
     },
     "execution_count": 16,
     "metadata": {},
     "output_type": "execute_result"
    }
   ],
   "source": [
    "'''** What is the main difference between a tuple and a list? **'''"
   ]
  },
  {
   "cell_type": "code",
   "execution_count": 17,
   "id": "216db968",
   "metadata": {},
   "outputs": [],
   "source": [
    "# list is mutable and tuple is immutable."
   ]
  },
  {
   "cell_type": "code",
   "execution_count": 18,
   "id": "29e0a4db",
   "metadata": {},
   "outputs": [
    {
     "data": {
      "text/plain": [
       "'** Create a function that grabs the email website domain from a string in the form: **\\n\\n    user@domain.com\\n    \\n**So for example, passing \"user@domain.com\" would return: domain.com**'"
      ]
     },
     "execution_count": 18,
     "metadata": {},
     "output_type": "execute_result"
    }
   ],
   "source": [
    "'''** Create a function that grabs the email website domain from a string in the form: **\n",
    "\n",
    "    user@domain.com\n",
    "    \n",
    "**So for example, passing \"user@domain.com\" would return: domain.com**'''"
   ]
  },
  {
   "cell_type": "code",
   "execution_count": 19,
   "id": "3aee29ff",
   "metadata": {},
   "outputs": [],
   "source": [
    "def get_domain(email):\n",
    "    return email.split('@')[-1]"
   ]
  },
  {
   "cell_type": "code",
   "execution_count": 20,
   "id": "43b728ae",
   "metadata": {},
   "outputs": [
    {
     "data": {
      "text/plain": [
       "'gmail.com'"
      ]
     },
     "execution_count": 20,
     "metadata": {},
     "output_type": "execute_result"
    }
   ],
   "source": [
    "get_domain('priya.jagtap123@gmail.com')"
   ]
  },
  {
   "cell_type": "code",
   "execution_count": 21,
   "id": "ee885c57",
   "metadata": {},
   "outputs": [
    {
     "data": {
      "text/plain": [
       "\"** Create a basic function that returns True if the word 'dog' is contained in the input string. Don't worry about edge cases like a punctuation being attached to the word dog, but do account for capitalization. **\""
      ]
     },
     "execution_count": 21,
     "metadata": {},
     "output_type": "execute_result"
    }
   ],
   "source": [
    "'''** Create a basic function that returns True if the word 'dog' is contained in the input string. Don't worry about edge cases like a punctuation being attached to the word dog, but do account for capitalization. **'''"
   ]
  },
  {
   "cell_type": "code",
   "execution_count": 22,
   "id": "078c5d34",
   "metadata": {},
   "outputs": [],
   "source": [
    "def find_dog(s):\n",
    "    return 'dog' in s.lower().split()"
   ]
  },
  {
   "cell_type": "code",
   "execution_count": 23,
   "id": "c256f605",
   "metadata": {},
   "outputs": [
    {
     "data": {
      "text/plain": [
       "True"
      ]
     },
     "execution_count": 23,
     "metadata": {},
     "output_type": "execute_result"
    }
   ],
   "source": [
    "find_dog('Is there a dog here?')"
   ]
  },
  {
   "cell_type": "code",
   "execution_count": 24,
   "id": "dd0d53b4",
   "metadata": {},
   "outputs": [
    {
     "data": {
      "text/plain": [
       "True"
      ]
     },
     "execution_count": 24,
     "metadata": {},
     "output_type": "execute_result"
    }
   ],
   "source": [
    "find_dog('Is there a Dog here?')"
   ]
  },
  {
   "cell_type": "code",
   "execution_count": 25,
   "id": "5335c7e5",
   "metadata": {},
   "outputs": [
    {
     "data": {
      "text/plain": [
       "True"
      ]
     },
     "execution_count": 25,
     "metadata": {},
     "output_type": "execute_result"
    }
   ],
   "source": [
    "find_dog('Is there a DOg here?')"
   ]
  },
  {
   "cell_type": "code",
   "execution_count": 26,
   "id": "601073fc",
   "metadata": {},
   "outputs": [
    {
     "data": {
      "text/plain": [
       "'** Create a function that counts the number of times the word \"dog\" occurs in a string. Again ignore edge cases. **'"
      ]
     },
     "execution_count": 26,
     "metadata": {},
     "output_type": "execute_result"
    }
   ],
   "source": [
    "'''** Create a function that counts the number of times the word \"dog\" occurs in a string. Again ignore edge cases. **'''"
   ]
  },
  {
   "cell_type": "code",
   "execution_count": 27,
   "id": "3494ab4f",
   "metadata": {},
   "outputs": [],
   "source": [
    "def count_dog(s):\n",
    "    count=0\n",
    "    for v in s.lower().split():\n",
    "        if v=='dog':\n",
    "            count +=1   # count+count+1\n",
    "    return count"
   ]
  },
  {
   "cell_type": "code",
   "execution_count": 28,
   "id": "b2620c19",
   "metadata": {},
   "outputs": [
    {
     "data": {
      "text/plain": [
       "2"
      ]
     },
     "execution_count": 28,
     "metadata": {},
     "output_type": "execute_result"
    }
   ],
   "source": [
    "count_dog('This dog runs faster than the other dog dude!')"
   ]
  },
  {
   "cell_type": "code",
   "execution_count": 29,
   "id": "034fdc23",
   "metadata": {},
   "outputs": [
    {
     "data": {
      "text/plain": [
       "\"** Use lambda expressions and the filter() function to filter out words from a list that don't start with the letter 's'. For example:**\\n\\n    seq = ['soup','dog','salad','cat','great']\\n\\n**should be filtered down to:**\\n\\n    ['soup','salad']\""
      ]
     },
     "execution_count": 29,
     "metadata": {},
     "output_type": "execute_result"
    }
   ],
   "source": [
    "'''** Use lambda expressions and the filter() function to filter out words from a list that don't start with the letter 's'. For example:**\n",
    "\n",
    "    seq = ['soup','dog','salad','cat','great']\n",
    "\n",
    "**should be filtered down to:**\n",
    "\n",
    "    ['soup','salad']'''"
   ]
  },
  {
   "cell_type": "code",
   "execution_count": 30,
   "id": "1d4980c2",
   "metadata": {},
   "outputs": [],
   "source": [
    "seq = ['soup','dog','salad','cat','great']"
   ]
  },
  {
   "cell_type": "code",
   "execution_count": 31,
   "id": "30b310ac",
   "metadata": {},
   "outputs": [
    {
     "data": {
      "text/plain": [
       "['dog', 'cat', 'great']"
      ]
     },
     "execution_count": 31,
     "metadata": {},
     "output_type": "execute_result"
    }
   ],
   "source": [
    "list(filter(lambda x:x[0]!='s', seq))"
   ]
  },
  {
   "cell_type": "code",
   "execution_count": 31,
   "id": "b65498c0",
   "metadata": {},
   "outputs": [
    {
     "data": {
      "text/plain": [
       "'**You are driving a little too fast, and a police officer stops you. Write a function\\n  to return one of 3 possible results: \"No ticket\", \"Small ticket\", or \"Big Ticket\". \\n  If your speed is 60 or less, the result is \"No Ticket\". If speed is between 61 \\n  and 80 inclusive, the result is \"Small Ticket\". If speed is 81 or more, the result is \"Big    Ticket\". Unless it is your birthday (encoded as a boolean value in the parameters of the function) -- on your birthday, your speed can be 5 higher in all \\n  cases. **'"
      ]
     },
     "execution_count": 31,
     "metadata": {},
     "output_type": "execute_result"
    }
   ],
   "source": [
    "'''**You are driving a little too fast, and a police officer stops you. Write a function\n",
    "  to return one of 3 possible results: \"No ticket\", \"Small ticket\", or \"Big Ticket\". \n",
    "  If your speed is 60 or less, the result is \"No Ticket\". If speed is between 61 \n",
    "  and 80 inclusive, the result is \"Small Ticket\". If speed is 81 or more, the result is \"Big    Ticket\". Unless it is your birthday (encoded as a boolean value in the parameters of the function) -- on your birthday, your speed can be 5 higher in all \n",
    "  cases. **'''"
   ]
  },
  {
   "cell_type": "code",
   "execution_count": 32,
   "id": "b63cb02a",
   "metadata": {},
   "outputs": [],
   "source": [
    "def speed_catch(speed,birthday):\n",
    "    if birthday:\n",
    "        new_speed=speed-5\n",
    "    else:\n",
    "        new_speed=speed\n",
    "    if new_speed>80:\n",
    "        print('BIG TICKET')\n",
    "    elif new_speed>60:\n",
    "        return('SMALL TICKET')\n",
    "    else:\n",
    "        return('NO TICKET')"
   ]
  },
  {
   "cell_type": "code",
   "execution_count": 33,
   "id": "57af9f79",
   "metadata": {},
   "outputs": [
    {
     "name": "stdout",
     "output_type": "stream",
     "text": [
      "BIG TICKET\n"
     ]
    }
   ],
   "source": [
    "speed_catch(84,False)"
   ]
  },
  {
   "cell_type": "code",
   "execution_count": 34,
   "id": "d594e970",
   "metadata": {},
   "outputs": [
    {
     "data": {
      "text/plain": [
       "'SMALL TICKET'"
      ]
     },
     "execution_count": 34,
     "metadata": {},
     "output_type": "execute_result"
    }
   ],
   "source": [
    "speed_catch(84,True)"
   ]
  },
  {
   "cell_type": "code",
   "execution_count": 35,
   "id": "bf3b91c8",
   "metadata": {},
   "outputs": [
    {
     "data": {
      "text/plain": [
       "'NO TICKET'"
      ]
     },
     "execution_count": 35,
     "metadata": {},
     "output_type": "execute_result"
    }
   ],
   "source": [
    "speed_catch(50,True)"
   ]
  },
  {
   "cell_type": "code",
   "execution_count": 36,
   "id": "e8990298",
   "metadata": {},
   "outputs": [
    {
     "data": {
      "text/plain": [
       "'NO TICKET'"
      ]
     },
     "execution_count": 36,
     "metadata": {},
     "output_type": "execute_result"
    }
   ],
   "source": [
    "speed_catch(65,True)"
   ]
  },
  {
   "cell_type": "code",
   "execution_count": 37,
   "id": "5e16351c",
   "metadata": {},
   "outputs": [
    {
     "data": {
      "text/plain": [
       "'SMALL TICKET'"
      ]
     },
     "execution_count": 37,
     "metadata": {},
     "output_type": "execute_result"
    }
   ],
   "source": [
    "speed_catch(65,False)"
   ]
  },
  {
   "cell_type": "code",
   "execution_count": 38,
   "id": "406951a9",
   "metadata": {},
   "outputs": [
    {
     "data": {
      "text/plain": [
       "\"Given a string print number num by extracting all the\\ndigits from the string as in string\\nPrint negative number if the first character in \\nstring is '-'\\neg.\\n-123abcd should return -123,abcd456-->456,fdhfh78dsd89--->7889,-56dssd78-->-5678\""
      ]
     },
     "execution_count": 38,
     "metadata": {},
     "output_type": "execute_result"
    }
   ],
   "source": [
    "'''Given a string print number num by extracting all the\n",
    "digits from the string as in string\n",
    "Print negative number if the first character in \n",
    "string is '-'\n",
    "eg.\n",
    "-123abcd should return -123,abcd456-->456,fdhfh78dsd89--->7889,-56dssd78-->-5678'''"
   ]
  },
  {
   "cell_type": "code",
   "execution_count": 40,
   "id": "d05ff877",
   "metadata": {},
   "outputs": [
    {
     "name": "stdout",
     "output_type": "stream",
     "text": [
      "Enter the Input: -dhd45ndfn\n",
      "-45\n"
     ]
    }
   ],
   "source": [
    "s=input('Enter the Input: ')\n",
    "num=''\n",
    "a=[0,1,2,3,4,5,6,7,8,9]\n",
    "if s=='':\n",
    "    print('P1 enter something')\n",
    "else:    \n",
    "    if s[0]=='-':\n",
    "        num=num+s[0]\n",
    "    for c in s:\n",
    "        if c in str(a):\n",
    "            num=num+c\n",
    "    print(num)           "
   ]
  },
  {
   "cell_type": "code",
   "execution_count": 41,
   "id": "0acf5c77",
   "metadata": {},
   "outputs": [
    {
     "data": {
      "text/plain": [
       "'WAP to check whether a number is palindrome or not on following conditions.\\n1. take input number\\n2. add number and its reverse\\n3. check that number is palindrome or not,if not then sum and its reverse'"
      ]
     },
     "execution_count": 41,
     "metadata": {},
     "output_type": "execute_result"
    }
   ],
   "source": [
    "'''WAP to check whether a number is palindrome or not on following conditions.\n",
    "1. take input number\n",
    "2. add number and its reverse\n",
    "3. check that number is palindrome or not,if not then sum and its reverse'''"
   ]
  },
  {
   "cell_type": "code",
   "execution_count": 42,
   "id": "9fc1dd14",
   "metadata": {},
   "outputs": [
    {
     "name": "stdout",
     "output_type": "stream",
     "text": [
      "Enter the number: 88\n",
      "Number is : 847\n",
      "Reverse is:  748\n",
      "Number is : 1595\n",
      "Reverse is:  5951\n",
      "Number is : 7546\n",
      "Reverse is:  6457\n",
      "Number is : 14003\n",
      "Reverse is:  30041\n",
      "Number is : 44044\n",
      "Reverse is:  44044\n",
      "palindrome is:  44044\n"
     ]
    }
   ],
   "source": [
    "num1=input('Enter the number: ')\n",
    "num2=int(num1[::-1])\n",
    "num3=str(int(num1)+num2)\n",
    "while num3!=num3[::-1]:\n",
    "    num3=str(int(num3)+int(num3[::-1]))\n",
    "    print('Number is :',num3)\n",
    "    print('Reverse is: ',num3[::-1])\n",
    "print('palindrome is: ',num3)"
   ]
  },
  {
   "cell_type": "code",
   "execution_count": 43,
   "id": "fa190d54",
   "metadata": {},
   "outputs": [
    {
     "data": {
      "text/plain": [
       "'Write a python function to find and display the five \\ndigit number in which the first digit is two more than \\nthe second,the second digit is two more than the third,\\nthe fourth digit is two less than the third, and the \\nlast digit is two more than\\nthe fourth.The sum of the third,fourth and fifth digits\\nequals the first.The sum of all the digits is 19'"
      ]
     },
     "execution_count": 43,
     "metadata": {},
     "output_type": "execute_result"
    }
   ],
   "source": [
    "'''Write a python function to find and display the five \n",
    "digit number in which the first digit is two more than \n",
    "the second,the second digit is two more than the third,\n",
    "the fourth digit is two less than the third, and the \n",
    "last digit is two more than\n",
    "the fourth.The sum of the third,fourth and fifth digits\n",
    "equals the first.The sum of all the digits is 19'''"
   ]
  },
  {
   "cell_type": "code",
   "execution_count": 44,
   "id": "407e054c",
   "metadata": {},
   "outputs": [
    {
     "name": "stdout",
     "output_type": "stream",
     "text": [
      "75313\n"
     ]
    }
   ],
   "source": [
    "def five_digit_number():\n",
    "    s=[0,1,2,3,4,5,6,7,8,9]\n",
    "    for x in s:\n",
    "        a=x+4\n",
    "        b=x+2\n",
    "        c=x\n",
    "        d=x-2\n",
    "        e=x\n",
    "        if c+d+e==a:\n",
    "            if(a+b+c+d+e)==19:\n",
    "                return(int(str(a)+str(b)+str(c)+str(d)+str(e)))\n",
    "print(five_digit_number())"
   ]
  },
  {
   "cell_type": "code",
   "execution_count": 45,
   "id": "1bff4490",
   "metadata": {},
   "outputs": [
    {
     "name": "stdout",
     "output_type": "stream",
     "text": [
      "75313\n"
     ]
    }
   ],
   "source": [
    "def five_digit_number():\n",
    "    \n",
    "    for x in range(0,9):\n",
    "        a=x+4\n",
    "        b=x+2\n",
    "        c=x\n",
    "        d=x-2\n",
    "        e=x\n",
    "        if c+d+e==a:\n",
    "            if(a+b+c+d+e)==19:\n",
    "                return(int(str(a)+str(b)+str(c)+str(d)+str(e)))\n",
    "print(five_digit_number())"
   ]
  }
 ],
 "metadata": {
  "kernelspec": {
   "display_name": "Python 3 (ipykernel)",
   "language": "python",
   "name": "python3"
  },
  "language_info": {
   "codemirror_mode": {
    "name": "ipython",
    "version": 3
   },
   "file_extension": ".py",
   "mimetype": "text/x-python",
   "name": "python",
   "nbconvert_exporter": "python",
   "pygments_lexer": "ipython3",
   "version": "3.9.12"
  }
 },
 "nbformat": 4,
 "nbformat_minor": 5
}
